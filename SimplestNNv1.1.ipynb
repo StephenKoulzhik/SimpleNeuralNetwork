{
 "cells": [
  {
   "cell_type": "markdown",
   "id": "007b746d",
   "metadata": {},
   "source": [
    "# Простейшая Нейронная сеть \n",
    "Это пример пройстешей нейронной сети. На вход она получает список из n элементов и ее задача - понять, что ответ предопределяется вторым числом в данном списке (элемент с индексом 1). То есть, если на вход она получает допустим $(1, 0, 0, 1)$ она должна вывести 0, если $(1, 1, 0, 1)$ - 1.  "
   ]
  },
  {
   "cell_type": "code",
   "execution_count": 27,
   "id": "a347b979",
   "metadata": {},
   "outputs": [],
   "source": [
    "#\n",
    "import numpy as np \n",
    "import matplotlib.pyplot as pt #просто для графиков\n",
    "\n",
    "input_values = np.array([\n",
    "    [0, 1, 0, 0], \n",
    "    [1, 0, 0, 1],\n",
    "    [1, 1, 1, 0],\n",
    "    [0, 0, 0, 1],\n",
    "    [0, 0, 1, 0],\n",
    "    [1, 0, 1, 0]\n",
    "])\n",
    "\n",
    "output_values = np.array([\n",
    "    [1], [0], [1], [0], [0], [0]\n",
    "])"
   ]
  },
  {
   "cell_type": "code",
   "execution_count": 28,
   "id": "ad1cbf6d",
   "metadata": {},
   "outputs": [],
   "source": [
    "class NeuralNetwork:\n",
    "    \n",
    "    \n",
    "    def __init__ (self, input_values, output_values):\n",
    "        self.input = input_values\n",
    "        self.result = output_values\n",
    "        self.weights = np.array([[round(np.random.random_sample(), 2)],\n",
    "                                 [round(np.random.random_sample(), 2)],\n",
    "                                 [round(np.random.random_sample(), 2)],\n",
    "                                 [round(np.random.random_sample(), 2)]\n",
    "        ])\n",
    "        self.errors_epochs = []\n",
    "        self.epochs = []\n",
    "    \n",
    "    \n",
    "    def sigmoid(self, x):\n",
    "        return 1 / (1 + np.exp(-x))\n",
    "    \n",
    "    \n",
    "    def sigmoid_deriv(self, x): #мы будем юзать это только с уже посчитанным сигмоидом поэтому (то есть x будет уже sigmoid(self, x1))\n",
    "        return (x * (1 - x)) # в общем случае Sigmoid'(x) = Sigmoid(x) * (1 - Sigmoid(x))\n",
    "    \n",
    "    \n",
    "    def feed_forward(self):\n",
    "        self.hidden = self.sigmoid(np.dot(self.input, self.weights))\n",
    "        \n",
    "    \n",
    "    def predict(self, input_values):\n",
    "        return self.sigmoid(np.dot(input_values, self.weights))\n",
    "    \n",
    "    \n",
    "    def back_propagation(self):\n",
    "        self.error  = self.result - self.hidden\n",
    "        delta = self.error * self.sigmoid_deriv(self.hidden)\n",
    "        mat = np.dot(self.input.T, delta)\n",
    "        self.weights += mat\n",
    "    \n",
    "    \n",
    "    \n",
    "    def train(self, epochs = 30000):\n",
    "        for i in range(epochs):\n",
    "            self.feed_forward()\n",
    "            self.back_propagation()\n",
    "            self.errors_epochs.append(np.average(abs(self.error)))\n",
    "            self.epochs.append(i)\n",
    "            \n",
    "            \n",
    "    "
   ]
  },
  {
   "cell_type": "code",
   "execution_count": 34,
   "id": "e85ac97e",
   "metadata": {},
   "outputs": [
    {
     "name": "stdout",
     "output_type": "stream",
     "text": [
      "[[0.00504022]]\n",
      "[[0.99997017]]\n"
     ]
    }
   ],
   "source": [
    "Vasya = NeuralNetwork(input_values, output_values)\n",
    "Vasya.train()\n",
    "print(Vasya.predict(np.array([[1, 0, 1, 0]])))\n",
    "print(Vasya.predict(np.array([[1, 1, 0, 0]])))"
   ]
  },
  {
   "cell_type": "markdown",
   "id": "ca89684d",
   "metadata": {},
   "source": [
    "https://www.ladbible.com/cdn-cgi/image/width=1200,quality=70,format=jpeg,fit=contain,dpr=1/https%3A%2F%2Fs3-images.ladbible.com%2Fs3%2Fcontent%2Fbd9f19995fe03288211239f5ac6e093f.png\n"
   ]
  },
  {
   "cell_type": "markdown",
   "id": "2093a7e2",
   "metadata": {},
   "source": [
    "Что ж, это довольно неплохой результат "
   ]
  },
  {
   "cell_type": "code",
   "execution_count": 32,
   "id": "8f0cad96",
   "metadata": {},
   "outputs": [
    {
     "data": {
      "image/png": "[encoded data removed]",
      "text/plain": [
       "<Figure size 720x720 with 1 Axes>"
      ]
     },
     "metadata": {
      "needs_background": "light"
     },
     "output_type": "display_data"
    }
   ],
   "source": [
    "pt.figure(figsize=(10,10))\n",
    "pt.plot(Vasya.epochs, Vasya.errors_epochs)\n",
    "pt.xlabel('Epoch')\n",
    "pt.ylabel('Error')\n",
    "pt.show()"
   ]
  },
  {
   "cell_type": "markdown",
   "id": "63406036",
   "metadata": {},
   "source": [
    "Ну и соответсвенно график, который показыает зависимость ошибки на нашем обучаещем сете в зависимости от эпохи. "
   ]
  }
 ],
 "metadata": {
  "kernelspec": {
   "display_name": "Python 3",
   "language": "python",
   "name": "python3"
  },
  "language_info": {
   "codemirror_mode": {
    "name": "ipython",
    "version": 3
   },
   "file_extension": ".py",
   "mimetype": "text/x-python",
   "name": "python",
   "nbconvert_exporter": "python",
   "pygments_lexer": "ipython3",
   "version": "3.8.8"
  }
 },
 "nbformat": 4,
 "nbformat_minor": 5
}
